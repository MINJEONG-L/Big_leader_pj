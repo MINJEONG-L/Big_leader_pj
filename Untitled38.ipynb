{
  "nbformat": 4,
  "nbformat_minor": 0,
  "metadata": {
    "colab": {
      "name": "Untitled38.ipynb",
      "provenance": [],
      "authorship_tag": "ABX9TyNtUu2Xx5GR94hXYDppBiID",
      "include_colab_link": true
    },
    "kernelspec": {
      "name": "python3",
      "display_name": "Python 3"
    },
    "language_info": {
      "name": "python"
    }
  },
  "cells": [
    {
      "cell_type": "markdown",
      "metadata": {
        "id": "view-in-github",
        "colab_type": "text"
      },
      "source": [
        "<a href=\"https://colab.research.google.com/github/MINJEONG-L/Big_leader_pj/blob/main/Untitled38.ipynb\" target=\"_parent\"><img src=\"https://colab.research.google.com/assets/colab-badge.svg\" alt=\"Open In Colab\"/></a>"
      ]
    },
    {
      "cell_type": "code",
      "execution_count": 2,
      "metadata": {
        "colab": {
          "base_uri": "https://localhost:8080/",
          "height": 268
        },
        "id": "vZXPGZHxTufB",
        "outputId": "fd991aa6-dcd4-425e-931a-f640fec9f533"
      },
      "outputs": [
        {
          "output_type": "error",
          "ename": "UnicodeDecodeError",
          "evalue": "ignored",
          "traceback": [
            "\u001b[0;31m---------------------------------------------------------------------------\u001b[0m",
            "\u001b[0;31mUnicodeDecodeError\u001b[0m                        Traceback (most recent call last)",
            "\u001b[0;32m<ipython-input-2-52a34186cf1d>\u001b[0m in \u001b[0;36m<module>\u001b[0;34m()\u001b[0m\n\u001b[1;32m      1\u001b[0m \u001b[0;32mimport\u001b[0m \u001b[0mpandas\u001b[0m \u001b[0;32mas\u001b[0m \u001b[0mpd\u001b[0m\u001b[0;34m\u001b[0m\u001b[0;34m\u001b[0m\u001b[0m\n\u001b[1;32m      2\u001b[0m \u001b[0;34m\u001b[0m\u001b[0m\n\u001b[0;32m----> 3\u001b[0;31m \u001b[0mdf\u001b[0m \u001b[0;34m=\u001b[0m \u001b[0mpd\u001b[0m\u001b[0;34m.\u001b[0m\u001b[0mread_csv\u001b[0m\u001b[0;34m(\u001b[0m\u001b[0;34m\"워크넷_채용정보_(92380x59).csv\"\u001b[0m\u001b[0;34m,\u001b[0m\u001b[0mencoding\u001b[0m\u001b[0;34m=\u001b[0m\u001b[0;34m'cp949'\u001b[0m\u001b[0;34m)\u001b[0m\u001b[0;34m\u001b[0m\u001b[0;34m\u001b[0m\u001b[0m\n\u001b[0m",
            "\u001b[0;32m/usr/local/lib/python3.7/dist-packages/pandas/util/_decorators.py\u001b[0m in \u001b[0;36mwrapper\u001b[0;34m(*args, **kwargs)\u001b[0m\n\u001b[1;32m    309\u001b[0m                     \u001b[0mstacklevel\u001b[0m\u001b[0;34m=\u001b[0m\u001b[0mstacklevel\u001b[0m\u001b[0;34m,\u001b[0m\u001b[0;34m\u001b[0m\u001b[0;34m\u001b[0m\u001b[0m\n\u001b[1;32m    310\u001b[0m                 )\n\u001b[0;32m--> 311\u001b[0;31m             \u001b[0;32mreturn\u001b[0m \u001b[0mfunc\u001b[0m\u001b[0;34m(\u001b[0m\u001b[0;34m*\u001b[0m\u001b[0margs\u001b[0m\u001b[0;34m,\u001b[0m \u001b[0;34m**\u001b[0m\u001b[0mkwargs\u001b[0m\u001b[0;34m)\u001b[0m\u001b[0;34m\u001b[0m\u001b[0;34m\u001b[0m\u001b[0m\n\u001b[0m\u001b[1;32m    312\u001b[0m \u001b[0;34m\u001b[0m\u001b[0m\n\u001b[1;32m    313\u001b[0m         \u001b[0;32mreturn\u001b[0m \u001b[0mwrapper\u001b[0m\u001b[0;34m\u001b[0m\u001b[0;34m\u001b[0m\u001b[0m\n",
            "\u001b[0;32m/usr/local/lib/python3.7/dist-packages/pandas/io/parsers/readers.py\u001b[0m in \u001b[0;36mread_csv\u001b[0;34m(filepath_or_buffer, sep, delimiter, header, names, index_col, usecols, squeeze, prefix, mangle_dupe_cols, dtype, engine, converters, true_values, false_values, skipinitialspace, skiprows, skipfooter, nrows, na_values, keep_default_na, na_filter, verbose, skip_blank_lines, parse_dates, infer_datetime_format, keep_date_col, date_parser, dayfirst, cache_dates, iterator, chunksize, compression, thousands, decimal, lineterminator, quotechar, quoting, doublequote, escapechar, comment, encoding, encoding_errors, dialect, error_bad_lines, warn_bad_lines, on_bad_lines, delim_whitespace, low_memory, memory_map, float_precision, storage_options)\u001b[0m\n\u001b[1;32m    584\u001b[0m     \u001b[0mkwds\u001b[0m\u001b[0;34m.\u001b[0m\u001b[0mupdate\u001b[0m\u001b[0;34m(\u001b[0m\u001b[0mkwds_defaults\u001b[0m\u001b[0;34m)\u001b[0m\u001b[0;34m\u001b[0m\u001b[0;34m\u001b[0m\u001b[0m\n\u001b[1;32m    585\u001b[0m \u001b[0;34m\u001b[0m\u001b[0m\n\u001b[0;32m--> 586\u001b[0;31m     \u001b[0;32mreturn\u001b[0m \u001b[0m_read\u001b[0m\u001b[0;34m(\u001b[0m\u001b[0mfilepath_or_buffer\u001b[0m\u001b[0;34m,\u001b[0m \u001b[0mkwds\u001b[0m\u001b[0;34m)\u001b[0m\u001b[0;34m\u001b[0m\u001b[0;34m\u001b[0m\u001b[0m\n\u001b[0m\u001b[1;32m    587\u001b[0m \u001b[0;34m\u001b[0m\u001b[0m\n\u001b[1;32m    588\u001b[0m \u001b[0;34m\u001b[0m\u001b[0m\n",
            "\u001b[0;32m/usr/local/lib/python3.7/dist-packages/pandas/io/parsers/readers.py\u001b[0m in \u001b[0;36m_read\u001b[0;34m(filepath_or_buffer, kwds)\u001b[0m\n\u001b[1;32m    486\u001b[0m \u001b[0;34m\u001b[0m\u001b[0m\n\u001b[1;32m    487\u001b[0m     \u001b[0;32mwith\u001b[0m \u001b[0mparser\u001b[0m\u001b[0;34m:\u001b[0m\u001b[0;34m\u001b[0m\u001b[0;34m\u001b[0m\u001b[0m\n\u001b[0;32m--> 488\u001b[0;31m         \u001b[0;32mreturn\u001b[0m \u001b[0mparser\u001b[0m\u001b[0;34m.\u001b[0m\u001b[0mread\u001b[0m\u001b[0;34m(\u001b[0m\u001b[0mnrows\u001b[0m\u001b[0;34m)\u001b[0m\u001b[0;34m\u001b[0m\u001b[0;34m\u001b[0m\u001b[0m\n\u001b[0m\u001b[1;32m    489\u001b[0m \u001b[0;34m\u001b[0m\u001b[0m\n\u001b[1;32m    490\u001b[0m \u001b[0;34m\u001b[0m\u001b[0m\n",
            "\u001b[0;32m/usr/local/lib/python3.7/dist-packages/pandas/io/parsers/readers.py\u001b[0m in \u001b[0;36mread\u001b[0;34m(self, nrows)\u001b[0m\n\u001b[1;32m   1045\u001b[0m     \u001b[0;32mdef\u001b[0m \u001b[0mread\u001b[0m\u001b[0;34m(\u001b[0m\u001b[0mself\u001b[0m\u001b[0;34m,\u001b[0m \u001b[0mnrows\u001b[0m\u001b[0;34m=\u001b[0m\u001b[0;32mNone\u001b[0m\u001b[0;34m)\u001b[0m\u001b[0;34m:\u001b[0m\u001b[0;34m\u001b[0m\u001b[0;34m\u001b[0m\u001b[0m\n\u001b[1;32m   1046\u001b[0m         \u001b[0mnrows\u001b[0m \u001b[0;34m=\u001b[0m \u001b[0mvalidate_integer\u001b[0m\u001b[0;34m(\u001b[0m\u001b[0;34m\"nrows\"\u001b[0m\u001b[0;34m,\u001b[0m \u001b[0mnrows\u001b[0m\u001b[0;34m)\u001b[0m\u001b[0;34m\u001b[0m\u001b[0;34m\u001b[0m\u001b[0m\n\u001b[0;32m-> 1047\u001b[0;31m         \u001b[0mindex\u001b[0m\u001b[0;34m,\u001b[0m \u001b[0mcolumns\u001b[0m\u001b[0;34m,\u001b[0m \u001b[0mcol_dict\u001b[0m \u001b[0;34m=\u001b[0m \u001b[0mself\u001b[0m\u001b[0;34m.\u001b[0m\u001b[0m_engine\u001b[0m\u001b[0;34m.\u001b[0m\u001b[0mread\u001b[0m\u001b[0;34m(\u001b[0m\u001b[0mnrows\u001b[0m\u001b[0;34m)\u001b[0m\u001b[0;34m\u001b[0m\u001b[0;34m\u001b[0m\u001b[0m\n\u001b[0m\u001b[1;32m   1048\u001b[0m \u001b[0;34m\u001b[0m\u001b[0m\n\u001b[1;32m   1049\u001b[0m         \u001b[0;32mif\u001b[0m \u001b[0mindex\u001b[0m \u001b[0;32mis\u001b[0m \u001b[0;32mNone\u001b[0m\u001b[0;34m:\u001b[0m\u001b[0;34m\u001b[0m\u001b[0;34m\u001b[0m\u001b[0m\n",
            "\u001b[0;32m/usr/local/lib/python3.7/dist-packages/pandas/io/parsers/c_parser_wrapper.py\u001b[0m in \u001b[0;36mread\u001b[0;34m(self, nrows)\u001b[0m\n\u001b[1;32m    222\u001b[0m         \u001b[0;32mtry\u001b[0m\u001b[0;34m:\u001b[0m\u001b[0;34m\u001b[0m\u001b[0;34m\u001b[0m\u001b[0m\n\u001b[1;32m    223\u001b[0m             \u001b[0;32mif\u001b[0m \u001b[0mself\u001b[0m\u001b[0;34m.\u001b[0m\u001b[0mlow_memory\u001b[0m\u001b[0;34m:\u001b[0m\u001b[0;34m\u001b[0m\u001b[0;34m\u001b[0m\u001b[0m\n\u001b[0;32m--> 224\u001b[0;31m                 \u001b[0mchunks\u001b[0m \u001b[0;34m=\u001b[0m \u001b[0mself\u001b[0m\u001b[0;34m.\u001b[0m\u001b[0m_reader\u001b[0m\u001b[0;34m.\u001b[0m\u001b[0mread_low_memory\u001b[0m\u001b[0;34m(\u001b[0m\u001b[0mnrows\u001b[0m\u001b[0;34m)\u001b[0m\u001b[0;34m\u001b[0m\u001b[0;34m\u001b[0m\u001b[0m\n\u001b[0m\u001b[1;32m    225\u001b[0m                 \u001b[0;31m# destructive to chunks\u001b[0m\u001b[0;34m\u001b[0m\u001b[0;34m\u001b[0m\u001b[0;34m\u001b[0m\u001b[0m\n\u001b[1;32m    226\u001b[0m                 \u001b[0mdata\u001b[0m \u001b[0;34m=\u001b[0m \u001b[0m_concatenate_chunks\u001b[0m\u001b[0;34m(\u001b[0m\u001b[0mchunks\u001b[0m\u001b[0;34m)\u001b[0m\u001b[0;34m\u001b[0m\u001b[0;34m\u001b[0m\u001b[0m\n",
            "\u001b[0;32m/usr/local/lib/python3.7/dist-packages/pandas/_libs/parsers.pyx\u001b[0m in \u001b[0;36mpandas._libs.parsers.TextReader.read_low_memory\u001b[0;34m()\u001b[0m\n",
            "\u001b[0;32m/usr/local/lib/python3.7/dist-packages/pandas/_libs/parsers.pyx\u001b[0m in \u001b[0;36mpandas._libs.parsers.TextReader._read_rows\u001b[0;34m()\u001b[0m\n",
            "\u001b[0;32m/usr/local/lib/python3.7/dist-packages/pandas/_libs/parsers.pyx\u001b[0m in \u001b[0;36mpandas._libs.parsers.TextReader._tokenize_rows\u001b[0;34m()\u001b[0m\n",
            "\u001b[0;32m/usr/local/lib/python3.7/dist-packages/pandas/_libs/parsers.pyx\u001b[0m in \u001b[0;36mpandas._libs.parsers.raise_parser_error\u001b[0;34m()\u001b[0m\n",
            "\u001b[0;31mUnicodeDecodeError\u001b[0m: 'cp949' codec can't decode byte 0x99 in position 205250: illegal multibyte sequence"
          ]
        }
      ],
      "source": [
        "import pandas as pd\n",
        "\n",
        "df = pd.read_csv(\"워크넷_채용정보_(92380x59).csv\",encoding='cp949')\n"
      ]
    },
    {
      "cell_type": "code",
      "source": [
        "df.head()"
      ],
      "metadata": {
        "id": "gTE7Zf4py60J"
      },
      "execution_count": null,
      "outputs": []
    },
    {
      "cell_type": "code",
      "source": [
        "df.shape"
      ],
      "metadata": {
        "id": "BInUBhOSESVS"
      },
      "execution_count": null,
      "outputs": []
    },
    {
      "cell_type": "code",
      "source": [
        "df.columns"
      ],
      "metadata": {
        "colab": {
          "base_uri": "https://localhost:8080/"
        },
        "id": "0iWnTr4W2boQ",
        "outputId": "ffca2c7c-e41c-4a4a-dffd-a23c829fb1a0"
      },
      "execution_count": null,
      "outputs": [
        {
          "output_type": "execute_result",
          "data": {
            "text/plain": [
              "Index(['구인인증번호', '회사명', '사업자등록번호', '채용제목', '임금형태', '급여', '최소임금액', '최대임금액',\n",
              "       '근무지역', '근무형태', '최소학력', '최대학력', '경력', '등록일자', '마감일자', '정보제공처',\n",
              "       '워크넷 채용정보 URL', '워크넷 모바일 채용정보 URL', '근무지 우편주소', '근무지 도로명주소', '근무지 기본주소',\n",
              "       '근무지 상세주소', '고용형태코드', '직종코드', '최종수정일'],\n",
              "      dtype='object')"
            ]
          },
          "metadata": {},
          "execution_count": 104
        }
      ]
    },
    {
      "cell_type": "code",
      "source": [
        "df.isnull().sum()"
      ],
      "metadata": {
        "colab": {
          "base_uri": "https://localhost:8080/"
        },
        "id": "6m4nQlOq2fn7",
        "outputId": "eb9d8bca-fcfc-4156-c492-7bfd592ceaac"
      },
      "execution_count": 130,
      "outputs": [
        {
          "output_type": "execute_result",
          "data": {
            "text/plain": [
              "구인인증번호                   0\n",
              "회사명                      0\n",
              "사업자등록번호             101874\n",
              "채용제목                     0\n",
              "임금형태                     0\n",
              "급여                       0\n",
              "최소임금액                    0\n",
              "최대임금액                    0\n",
              "근무지역                     0\n",
              "근무형태                  2983\n",
              "최소학력                     0\n",
              "최대학력                 80949\n",
              "경력                       0\n",
              "등록일자                     0\n",
              "마감일자                     0\n",
              "정보제공처                    0\n",
              "워크넷 채용정보 URL         36344\n",
              "워크넷 모바일 채용정보 URL    101874\n",
              "근무지 우편주소                 0\n",
              "근무지 도로명주소                1\n",
              "근무지 기본주소                 0\n",
              "근무지 상세주소             28447\n",
              "고용형태코드                   0\n",
              "직종코드                     0\n",
              "최종수정일                    0\n",
              "dtype: int64"
            ]
          },
          "metadata": {},
          "execution_count": 130
        }
      ]
    },
    {
      "cell_type": "code",
      "source": [
        "\n",
        "\n",
        "for i in range(len(df)):\n",
        "  df['근무지 기본주소'] = df['근무지 기본주소'][i].str.split(\" \")[0]"
      ],
      "metadata": {
        "colab": {
          "base_uri": "https://localhost:8080/",
          "height": 190
        },
        "id": "DvmjJnLH2hs8",
        "outputId": "32f7d8c7-2764-4098-d72d-22a63310eaf9"
      },
      "execution_count": null,
      "outputs": [
        {
          "output_type": "error",
          "ename": "AttributeError",
          "evalue": "ignored",
          "traceback": [
            "\u001b[0;31m---------------------------------------------------------------------------\u001b[0m",
            "\u001b[0;31mAttributeError\u001b[0m                            Traceback (most recent call last)",
            "\u001b[0;32m<ipython-input-107-146c0518c5fb>\u001b[0m in \u001b[0;36m<module>\u001b[0;34m()\u001b[0m\n\u001b[1;32m      1\u001b[0m \u001b[0;32mfor\u001b[0m \u001b[0mi\u001b[0m \u001b[0;32min\u001b[0m \u001b[0mrange\u001b[0m\u001b[0;34m(\u001b[0m\u001b[0mlen\u001b[0m\u001b[0;34m(\u001b[0m\u001b[0mdf\u001b[0m\u001b[0;34m)\u001b[0m\u001b[0;34m)\u001b[0m\u001b[0;34m:\u001b[0m\u001b[0;34m\u001b[0m\u001b[0;34m\u001b[0m\u001b[0m\n\u001b[0;32m----> 2\u001b[0;31m   \u001b[0mdf\u001b[0m\u001b[0;34m[\u001b[0m\u001b[0;34m'근무지 기본주소'\u001b[0m\u001b[0;34m]\u001b[0m \u001b[0;34m=\u001b[0m \u001b[0mdf\u001b[0m\u001b[0;34m[\u001b[0m\u001b[0;34m'근무지 기본주소'\u001b[0m\u001b[0;34m]\u001b[0m\u001b[0;34m[\u001b[0m\u001b[0mi\u001b[0m\u001b[0;34m]\u001b[0m\u001b[0;34m.\u001b[0m\u001b[0mstr\u001b[0m\u001b[0;34m.\u001b[0m\u001b[0msplit\u001b[0m\u001b[0;34m(\u001b[0m\u001b[0;34m\" \"\u001b[0m\u001b[0;34m)\u001b[0m\u001b[0;34m[\u001b[0m\u001b[0;36m0\u001b[0m\u001b[0;34m]\u001b[0m\u001b[0;34m\u001b[0m\u001b[0;34m\u001b[0m\u001b[0m\n\u001b[0m",
            "\u001b[0;31mAttributeError\u001b[0m: 'str' object has no attribute 'str'"
          ]
        }
      ]
    },
    {
      "cell_type": "code",
      "source": [
        "df_chong = df[df['근무지 기본주소'].split(\" \")[0] == '충청북도']"
      ],
      "metadata": {
        "colab": {
          "base_uri": "https://localhost:8080/",
          "height": 299
        },
        "id": "Z6877iiq22ws",
        "outputId": "43618c0d-3851-4dfa-8a79-32a17d7f268b"
      },
      "execution_count": null,
      "outputs": [
        {
          "output_type": "error",
          "ename": "AttributeError",
          "evalue": "ignored",
          "traceback": [
            "\u001b[0;31m---------------------------------------------------------------------------\u001b[0m",
            "\u001b[0;31mAttributeError\u001b[0m                            Traceback (most recent call last)",
            "\u001b[0;32m<ipython-input-33-570a6a34e204>\u001b[0m in \u001b[0;36m<module>\u001b[0;34m()\u001b[0m\n\u001b[0;32m----> 1\u001b[0;31m \u001b[0mdf_chong\u001b[0m \u001b[0;34m=\u001b[0m \u001b[0mdf\u001b[0m\u001b[0;34m[\u001b[0m\u001b[0mdf\u001b[0m\u001b[0;34m[\u001b[0m\u001b[0;34m'근무지 기본주소'\u001b[0m\u001b[0;34m]\u001b[0m\u001b[0;34m.\u001b[0m\u001b[0msplit\u001b[0m\u001b[0;34m(\u001b[0m\u001b[0;34m\" \"\u001b[0m\u001b[0;34m)\u001b[0m\u001b[0;34m[\u001b[0m\u001b[0;36m0\u001b[0m\u001b[0;34m]\u001b[0m \u001b[0;34m==\u001b[0m \u001b[0;34m'충청북도'\u001b[0m\u001b[0;34m]\u001b[0m\u001b[0;34m\u001b[0m\u001b[0;34m\u001b[0m\u001b[0m\n\u001b[0m",
            "\u001b[0;32m/usr/local/lib/python3.7/dist-packages/pandas/core/generic.py\u001b[0m in \u001b[0;36m__getattr__\u001b[0;34m(self, name)\u001b[0m\n\u001b[1;32m   5485\u001b[0m         ):\n\u001b[1;32m   5486\u001b[0m             \u001b[0;32mreturn\u001b[0m \u001b[0mself\u001b[0m\u001b[0;34m[\u001b[0m\u001b[0mname\u001b[0m\u001b[0;34m]\u001b[0m\u001b[0;34m\u001b[0m\u001b[0;34m\u001b[0m\u001b[0m\n\u001b[0;32m-> 5487\u001b[0;31m         \u001b[0;32mreturn\u001b[0m \u001b[0mobject\u001b[0m\u001b[0;34m.\u001b[0m\u001b[0m__getattribute__\u001b[0m\u001b[0;34m(\u001b[0m\u001b[0mself\u001b[0m\u001b[0;34m,\u001b[0m \u001b[0mname\u001b[0m\u001b[0;34m)\u001b[0m\u001b[0;34m\u001b[0m\u001b[0;34m\u001b[0m\u001b[0m\n\u001b[0m\u001b[1;32m   5488\u001b[0m \u001b[0;34m\u001b[0m\u001b[0m\n\u001b[1;32m   5489\u001b[0m     \u001b[0;32mdef\u001b[0m \u001b[0m__setattr__\u001b[0m\u001b[0;34m(\u001b[0m\u001b[0mself\u001b[0m\u001b[0;34m,\u001b[0m \u001b[0mname\u001b[0m\u001b[0;34m:\u001b[0m \u001b[0mstr\u001b[0m\u001b[0;34m,\u001b[0m \u001b[0mvalue\u001b[0m\u001b[0;34m)\u001b[0m \u001b[0;34m->\u001b[0m \u001b[0;32mNone\u001b[0m\u001b[0;34m:\u001b[0m\u001b[0;34m\u001b[0m\u001b[0;34m\u001b[0m\u001b[0m\n",
            "\u001b[0;31mAttributeError\u001b[0m: 'Series' object has no attribute 'split'"
          ]
        }
      ]
    },
    {
      "cell_type": "code",
      "source": [
        "li = df['근무지 기본주소']\n",
        "li = li[:-1]\n",
        "li = li.str.split(\" \")\n",
        "for i in range(len(li)):\n",
        "  li[i] = li[i][0]\n",
        "print(li)\n",
        "for i in range(len(li)):\n",
        "  df['ischong'] = 0\n",
        "  "
      ],
      "metadata": {
        "colab": {
          "base_uri": "https://localhost:8080/"
        },
        "id": "FmcsMmx7CATZ",
        "outputId": "167ca12d-846a-4807-e08f-433d4542d234"
      },
      "execution_count": 131,
      "outputs": [
        {
          "output_type": "stream",
          "name": "stdout",
          "text": [
            "0             경기도\n",
            "1             경기도\n",
            "2             경기도\n",
            "3           대전광역시\n",
            "4             경기도\n",
            "           ...   \n",
            "101868       충청남도\n",
            "101869        경기도\n",
            "101870       전라남도\n",
            "101871      서울특별시\n",
            "101872    제주특별자치도\n",
            "Name: 근무지 기본주소, Length: 101873, dtype: object\n"
          ]
        }
      ]
    },
    {
      "cell_type": "code",
      "source": [
        "df.ischong"
      ],
      "metadata": {
        "colab": {
          "base_uri": "https://localhost:8080/"
        },
        "id": "AaNxC1ZwDVUY",
        "outputId": "32394355-ada2-4757-b0a3-813c29495817"
      },
      "execution_count": 132,
      "outputs": [
        {
          "output_type": "execute_result",
          "data": {
            "text/plain": [
              "0         0\n",
              "1         0\n",
              "2         0\n",
              "3         0\n",
              "4         0\n",
              "         ..\n",
              "101869    0\n",
              "101870    0\n",
              "101871    0\n",
              "101872    0\n",
              "101873    0\n",
              "Name: ischong, Length: 101874, dtype: int64"
            ]
          },
          "metadata": {},
          "execution_count": 132
        }
      ]
    },
    {
      "cell_type": "code",
      "source": [
        "df['space'] = li"
      ],
      "metadata": {
        "id": "EtQ84a4sMtVt"
      },
      "execution_count": 133,
      "outputs": []
    },
    {
      "cell_type": "code",
      "source": [
        "df"
      ],
      "metadata": {
        "id": "RBv2c4j9mQBe"
      },
      "execution_count": null,
      "outputs": []
    },
    {
      "cell_type": "code",
      "source": [
        "df.loc[df.space == '충청북도','ischong'] = 1"
      ],
      "metadata": {
        "id": "P7tHhxQpVByY"
      },
      "execution_count": 135,
      "outputs": []
    },
    {
      "cell_type": "code",
      "source": [
        "df[df.space == \"충청북도\"]"
      ],
      "metadata": {
        "colab": {
          "base_uri": "https://localhost:8080/",
          "height": 1000
        },
        "id": "T1FnZghUmbjE",
        "outputId": "7dfbca58-3951-476a-c4a6-322c215d86c9"
      },
      "execution_count": 140,
      "outputs": [
        {
          "output_type": "execute_result",
          "data": {
            "text/plain": [
              "                  구인인증번호               회사명  사업자등록번호  \\\n",
              "122     K171112207290074            주식회사경보      NaN   \n",
              "182     K171222207290017   세명대학교충주한방병원세명의원      NaN   \n",
              "248     K171222207290016       (주)에스제이환경산업      NaN   \n",
              "259     K171112207290072            (주)씨알엠      NaN   \n",
              "276     K171112207290070  (주)One복지나라오아시스푸드      NaN   \n",
              "...                  ...               ...      ...   \n",
              "101839  K171112205310017         (주)엘에프코리아      NaN   \n",
              "101847  K171222205310005           백성흠정형외과      NaN   \n",
              "101859  K171252205310005            서울미소치과      NaN   \n",
              "101861  K171112205310014     (주)청우종합건축사사무소      NaN   \n",
              "101863  K171252205310004     그레이스 홀딩스 주식회사      NaN   \n",
              "\n",
              "                                  채용제목 임금형태               급여     최소임금액  \\\n",
              "122             미화 단기 근무자 채용공고(8/1~31)   월급            210만원   2100000   \n",
              "182                 세명대충주한방병원 한약사 모집공고   연봉  4000만원 ~ 4500만원  40000000   \n",
              "248           [경영기획팀]회계,재무 직원채용(차장,부장)   연봉  5000만원 ~ 6500만원  50000000   \n",
              "259              압출성형기 생산직 경력자 및 신입 모집   시급            9700원      9700   \n",
              "276                          배송직원 모십니다   월급            220만원   2200000   \n",
              "...                                ...  ...              ...       ...   \n",
              "101839              수제만두공장 생산 직원 구합니다.   시급            9160원      9160   \n",
              "101847            충주 백성흠 정형외과 물리치료사 채용   월급    230만원 ~ 250만원   2300000   \n",
              "101859  음성읍 신규개원 치과 진료실 모집 (1인1기숙사o...   연봉           2970만원  29700000   \n",
              "101861                         건축설계 채용   연봉  3000만원 ~ 5000만원  30000000   \n",
              "101863  P.C(Precast Concrete) 제품 생산...   연봉           3100만원  31000000   \n",
              "\n",
              "           최대임금액        근무지역   근무형태  ... 워크넷 모바일 채용정보 URL 근무지 우편주소  \\\n",
              "122            0  충북 청주시 서원구  주5일근무  ...              NaN    28644   \n",
              "182     45000000      충북 충주시  주6일근무  ...              NaN   380080   \n",
              "248     65000000      충북 충주시  주5일근무  ...              NaN    27463   \n",
              "259            0  충북 청주시 청원구  주5일근무  ...              NaN    28104   \n",
              "276            0  충북 청주시 청원구  주5일근무  ...              NaN    28310   \n",
              "...          ...         ...    ...  ...              ...      ...   \n",
              "101839         0  충북 청주시 흥덕구  주5일근무  ...              NaN    28456   \n",
              "101847   2500000      충북 충주시  주5일근무  ...              NaN    27486   \n",
              "101859         0      충북 음성군  주5일근무  ...              NaN    27703   \n",
              "101861  50000000  충북 청주시 흥덕구  주5일근무  ...              NaN   361842   \n",
              "101863         0      충북 음성군  주5일근무  ...              NaN    27661   \n",
              "\n",
              "           근무지 도로명주소                     근무지 기본주소   근무지 상세주소 고용형태코드    직종코드  \\\n",
              "122     4.311232e+11        충청북도 청주시 서원구 1순환로 776        NaN     20  561101   \n",
              "182     4.313045e+11             충청북도 충주시 상방4길 63  세명대충주한방병원     10  303000   \n",
              "248     4.313045e+11         충청북도 충주시 주덕읍 상전2길 15        NaN     10   27103   \n",
              "259     4.311432e+11  충청북도 청주시 청원구 오창읍 두릉유리로 50-2        NaN     10  852202   \n",
              "276     4.311445e+11      충청북도 청주시 청원구 상리로18번길 56        NaN     10  624103   \n",
              "...              ...                          ...        ...    ...     ...   \n",
              "101839  4.311345e+11     충청북도 청주시 흥덕구 1순환로386번길 6        NaN     10  873900   \n",
              "101847  4.313032e+11              충청북도 충주시 안림로 50    백성흠정형외과     10  306501   \n",
              "101859  4.377032e+11          충청북도 음성군 음성읍 수정로 28         2층     10  306400   \n",
              "101861  4.311332e+11         충청북도 청주시 흥덕구 사운로 190         3층     10  140100   \n",
              "101863  4.377030e+11      충청북도 음성군 대소면 대금로 653-32  GPC(내) 근무     10   28401   \n",
              "\n",
              "               최종수정일  ischong  space  \n",
              "122     202207291734        1   충청북도  \n",
              "182     202207291724        1   충청북도  \n",
              "248     202207291713        1   충청북도  \n",
              "259     202207291711        1   충청북도  \n",
              "276     202207291708        1   충청북도  \n",
              "...              ...      ...    ...  \n",
              "101839  202205310935        1   충청북도  \n",
              "101847  202205310943        1   충청북도  \n",
              "101859  202207260901        1   충청북도  \n",
              "101861  202205310917        1   충청북도  \n",
              "101863  202206020902        1   충청북도  \n",
              "\n",
              "[4543 rows x 27 columns]"
            ],
            "text/html": [
              "\n",
              "  <div id=\"df-e0aa09a4-0bcb-4ba1-bbd9-e49be24a1d55\">\n",
              "    <div class=\"colab-df-container\">\n",
              "      <div>\n",
              "<style scoped>\n",
              "    .dataframe tbody tr th:only-of-type {\n",
              "        vertical-align: middle;\n",
              "    }\n",
              "\n",
              "    .dataframe tbody tr th {\n",
              "        vertical-align: top;\n",
              "    }\n",
              "\n",
              "    .dataframe thead th {\n",
              "        text-align: right;\n",
              "    }\n",
              "</style>\n",
              "<table border=\"1\" class=\"dataframe\">\n",
              "  <thead>\n",
              "    <tr style=\"text-align: right;\">\n",
              "      <th></th>\n",
              "      <th>구인인증번호</th>\n",
              "      <th>회사명</th>\n",
              "      <th>사업자등록번호</th>\n",
              "      <th>채용제목</th>\n",
              "      <th>임금형태</th>\n",
              "      <th>급여</th>\n",
              "      <th>최소임금액</th>\n",
              "      <th>최대임금액</th>\n",
              "      <th>근무지역</th>\n",
              "      <th>근무형태</th>\n",
              "      <th>...</th>\n",
              "      <th>워크넷 모바일 채용정보 URL</th>\n",
              "      <th>근무지 우편주소</th>\n",
              "      <th>근무지 도로명주소</th>\n",
              "      <th>근무지 기본주소</th>\n",
              "      <th>근무지 상세주소</th>\n",
              "      <th>고용형태코드</th>\n",
              "      <th>직종코드</th>\n",
              "      <th>최종수정일</th>\n",
              "      <th>ischong</th>\n",
              "      <th>space</th>\n",
              "    </tr>\n",
              "  </thead>\n",
              "  <tbody>\n",
              "    <tr>\n",
              "      <th>122</th>\n",
              "      <td>K171112207290074</td>\n",
              "      <td>주식회사경보</td>\n",
              "      <td>NaN</td>\n",
              "      <td>미화 단기 근무자 채용공고(8/1~31)</td>\n",
              "      <td>월급</td>\n",
              "      <td>210만원</td>\n",
              "      <td>2100000</td>\n",
              "      <td>0</td>\n",
              "      <td>충북 청주시 서원구</td>\n",
              "      <td>주5일근무</td>\n",
              "      <td>...</td>\n",
              "      <td>NaN</td>\n",
              "      <td>28644</td>\n",
              "      <td>4.311232e+11</td>\n",
              "      <td>충청북도 청주시 서원구 1순환로 776</td>\n",
              "      <td>NaN</td>\n",
              "      <td>20</td>\n",
              "      <td>561101</td>\n",
              "      <td>202207291734</td>\n",
              "      <td>1</td>\n",
              "      <td>충청북도</td>\n",
              "    </tr>\n",
              "    <tr>\n",
              "      <th>182</th>\n",
              "      <td>K171222207290017</td>\n",
              "      <td>세명대학교충주한방병원세명의원</td>\n",
              "      <td>NaN</td>\n",
              "      <td>세명대충주한방병원 한약사 모집공고</td>\n",
              "      <td>연봉</td>\n",
              "      <td>4000만원 ~ 4500만원</td>\n",
              "      <td>40000000</td>\n",
              "      <td>45000000</td>\n",
              "      <td>충북 충주시</td>\n",
              "      <td>주6일근무</td>\n",
              "      <td>...</td>\n",
              "      <td>NaN</td>\n",
              "      <td>380080</td>\n",
              "      <td>4.313045e+11</td>\n",
              "      <td>충청북도 충주시 상방4길 63</td>\n",
              "      <td>세명대충주한방병원</td>\n",
              "      <td>10</td>\n",
              "      <td>303000</td>\n",
              "      <td>202207291724</td>\n",
              "      <td>1</td>\n",
              "      <td>충청북도</td>\n",
              "    </tr>\n",
              "    <tr>\n",
              "      <th>248</th>\n",
              "      <td>K171222207290016</td>\n",
              "      <td>(주)에스제이환경산업</td>\n",
              "      <td>NaN</td>\n",
              "      <td>[경영기획팀]회계,재무 직원채용(차장,부장)</td>\n",
              "      <td>연봉</td>\n",
              "      <td>5000만원 ~ 6500만원</td>\n",
              "      <td>50000000</td>\n",
              "      <td>65000000</td>\n",
              "      <td>충북 충주시</td>\n",
              "      <td>주5일근무</td>\n",
              "      <td>...</td>\n",
              "      <td>NaN</td>\n",
              "      <td>27463</td>\n",
              "      <td>4.313045e+11</td>\n",
              "      <td>충청북도 충주시 주덕읍 상전2길 15</td>\n",
              "      <td>NaN</td>\n",
              "      <td>10</td>\n",
              "      <td>27103</td>\n",
              "      <td>202207291713</td>\n",
              "      <td>1</td>\n",
              "      <td>충청북도</td>\n",
              "    </tr>\n",
              "    <tr>\n",
              "      <th>259</th>\n",
              "      <td>K171112207290072</td>\n",
              "      <td>(주)씨알엠</td>\n",
              "      <td>NaN</td>\n",
              "      <td>압출성형기 생산직 경력자 및 신입 모집</td>\n",
              "      <td>시급</td>\n",
              "      <td>9700원</td>\n",
              "      <td>9700</td>\n",
              "      <td>0</td>\n",
              "      <td>충북 청주시 청원구</td>\n",
              "      <td>주5일근무</td>\n",
              "      <td>...</td>\n",
              "      <td>NaN</td>\n",
              "      <td>28104</td>\n",
              "      <td>4.311432e+11</td>\n",
              "      <td>충청북도 청주시 청원구 오창읍 두릉유리로 50-2</td>\n",
              "      <td>NaN</td>\n",
              "      <td>10</td>\n",
              "      <td>852202</td>\n",
              "      <td>202207291711</td>\n",
              "      <td>1</td>\n",
              "      <td>충청북도</td>\n",
              "    </tr>\n",
              "    <tr>\n",
              "      <th>276</th>\n",
              "      <td>K171112207290070</td>\n",
              "      <td>(주)One복지나라오아시스푸드</td>\n",
              "      <td>NaN</td>\n",
              "      <td>배송직원 모십니다</td>\n",
              "      <td>월급</td>\n",
              "      <td>220만원</td>\n",
              "      <td>2200000</td>\n",
              "      <td>0</td>\n",
              "      <td>충북 청주시 청원구</td>\n",
              "      <td>주5일근무</td>\n",
              "      <td>...</td>\n",
              "      <td>NaN</td>\n",
              "      <td>28310</td>\n",
              "      <td>4.311445e+11</td>\n",
              "      <td>충청북도 청주시 청원구 상리로18번길 56</td>\n",
              "      <td>NaN</td>\n",
              "      <td>10</td>\n",
              "      <td>624103</td>\n",
              "      <td>202207291708</td>\n",
              "      <td>1</td>\n",
              "      <td>충청북도</td>\n",
              "    </tr>\n",
              "    <tr>\n",
              "      <th>...</th>\n",
              "      <td>...</td>\n",
              "      <td>...</td>\n",
              "      <td>...</td>\n",
              "      <td>...</td>\n",
              "      <td>...</td>\n",
              "      <td>...</td>\n",
              "      <td>...</td>\n",
              "      <td>...</td>\n",
              "      <td>...</td>\n",
              "      <td>...</td>\n",
              "      <td>...</td>\n",
              "      <td>...</td>\n",
              "      <td>...</td>\n",
              "      <td>...</td>\n",
              "      <td>...</td>\n",
              "      <td>...</td>\n",
              "      <td>...</td>\n",
              "      <td>...</td>\n",
              "      <td>...</td>\n",
              "      <td>...</td>\n",
              "      <td>...</td>\n",
              "    </tr>\n",
              "    <tr>\n",
              "      <th>101839</th>\n",
              "      <td>K171112205310017</td>\n",
              "      <td>(주)엘에프코리아</td>\n",
              "      <td>NaN</td>\n",
              "      <td>수제만두공장 생산 직원 구합니다.</td>\n",
              "      <td>시급</td>\n",
              "      <td>9160원</td>\n",
              "      <td>9160</td>\n",
              "      <td>0</td>\n",
              "      <td>충북 청주시 흥덕구</td>\n",
              "      <td>주5일근무</td>\n",
              "      <td>...</td>\n",
              "      <td>NaN</td>\n",
              "      <td>28456</td>\n",
              "      <td>4.311345e+11</td>\n",
              "      <td>충청북도 청주시 흥덕구 1순환로386번길 6</td>\n",
              "      <td>NaN</td>\n",
              "      <td>10</td>\n",
              "      <td>873900</td>\n",
              "      <td>202205310935</td>\n",
              "      <td>1</td>\n",
              "      <td>충청북도</td>\n",
              "    </tr>\n",
              "    <tr>\n",
              "      <th>101847</th>\n",
              "      <td>K171222205310005</td>\n",
              "      <td>백성흠정형외과</td>\n",
              "      <td>NaN</td>\n",
              "      <td>충주 백성흠 정형외과 물리치료사 채용</td>\n",
              "      <td>월급</td>\n",
              "      <td>230만원 ~ 250만원</td>\n",
              "      <td>2300000</td>\n",
              "      <td>2500000</td>\n",
              "      <td>충북 충주시</td>\n",
              "      <td>주5일근무</td>\n",
              "      <td>...</td>\n",
              "      <td>NaN</td>\n",
              "      <td>27486</td>\n",
              "      <td>4.313032e+11</td>\n",
              "      <td>충청북도 충주시 안림로 50</td>\n",
              "      <td>백성흠정형외과</td>\n",
              "      <td>10</td>\n",
              "      <td>306501</td>\n",
              "      <td>202205310943</td>\n",
              "      <td>1</td>\n",
              "      <td>충청북도</td>\n",
              "    </tr>\n",
              "    <tr>\n",
              "      <th>101859</th>\n",
              "      <td>K171252205310005</td>\n",
              "      <td>서울미소치과</td>\n",
              "      <td>NaN</td>\n",
              "      <td>음성읍 신규개원 치과 진료실 모집 (1인1기숙사o...</td>\n",
              "      <td>연봉</td>\n",
              "      <td>2970만원</td>\n",
              "      <td>29700000</td>\n",
              "      <td>0</td>\n",
              "      <td>충북 음성군</td>\n",
              "      <td>주5일근무</td>\n",
              "      <td>...</td>\n",
              "      <td>NaN</td>\n",
              "      <td>27703</td>\n",
              "      <td>4.377032e+11</td>\n",
              "      <td>충청북도 음성군 음성읍 수정로 28</td>\n",
              "      <td>2층</td>\n",
              "      <td>10</td>\n",
              "      <td>306400</td>\n",
              "      <td>202207260901</td>\n",
              "      <td>1</td>\n",
              "      <td>충청북도</td>\n",
              "    </tr>\n",
              "    <tr>\n",
              "      <th>101861</th>\n",
              "      <td>K171112205310014</td>\n",
              "      <td>(주)청우종합건축사사무소</td>\n",
              "      <td>NaN</td>\n",
              "      <td>건축설계 채용</td>\n",
              "      <td>연봉</td>\n",
              "      <td>3000만원 ~ 5000만원</td>\n",
              "      <td>30000000</td>\n",
              "      <td>50000000</td>\n",
              "      <td>충북 청주시 흥덕구</td>\n",
              "      <td>주5일근무</td>\n",
              "      <td>...</td>\n",
              "      <td>NaN</td>\n",
              "      <td>361842</td>\n",
              "      <td>4.311332e+11</td>\n",
              "      <td>충청북도 청주시 흥덕구 사운로 190</td>\n",
              "      <td>3층</td>\n",
              "      <td>10</td>\n",
              "      <td>140100</td>\n",
              "      <td>202205310917</td>\n",
              "      <td>1</td>\n",
              "      <td>충청북도</td>\n",
              "    </tr>\n",
              "    <tr>\n",
              "      <th>101863</th>\n",
              "      <td>K171252205310004</td>\n",
              "      <td>그레이스 홀딩스 주식회사</td>\n",
              "      <td>NaN</td>\n",
              "      <td>P.C(Precast Concrete) 제품 생산...</td>\n",
              "      <td>연봉</td>\n",
              "      <td>3100만원</td>\n",
              "      <td>31000000</td>\n",
              "      <td>0</td>\n",
              "      <td>충북 음성군</td>\n",
              "      <td>주5일근무</td>\n",
              "      <td>...</td>\n",
              "      <td>NaN</td>\n",
              "      <td>27661</td>\n",
              "      <td>4.377030e+11</td>\n",
              "      <td>충청북도 음성군 대소면 대금로 653-32</td>\n",
              "      <td>GPC(내) 근무</td>\n",
              "      <td>10</td>\n",
              "      <td>28401</td>\n",
              "      <td>202206020902</td>\n",
              "      <td>1</td>\n",
              "      <td>충청북도</td>\n",
              "    </tr>\n",
              "  </tbody>\n",
              "</table>\n",
              "<p>4543 rows × 27 columns</p>\n",
              "</div>\n",
              "      <button class=\"colab-df-convert\" onclick=\"convertToInteractive('df-e0aa09a4-0bcb-4ba1-bbd9-e49be24a1d55')\"\n",
              "              title=\"Convert this dataframe to an interactive table.\"\n",
              "              style=\"display:none;\">\n",
              "        \n",
              "  <svg xmlns=\"http://www.w3.org/2000/svg\" height=\"24px\"viewBox=\"0 0 24 24\"\n",
              "       width=\"24px\">\n",
              "    <path d=\"M0 0h24v24H0V0z\" fill=\"none\"/>\n",
              "    <path d=\"M18.56 5.44l.94 2.06.94-2.06 2.06-.94-2.06-.94-.94-2.06-.94 2.06-2.06.94zm-11 1L8.5 8.5l.94-2.06 2.06-.94-2.06-.94L8.5 2.5l-.94 2.06-2.06.94zm10 10l.94 2.06.94-2.06 2.06-.94-2.06-.94-.94-2.06-.94 2.06-2.06.94z\"/><path d=\"M17.41 7.96l-1.37-1.37c-.4-.4-.92-.59-1.43-.59-.52 0-1.04.2-1.43.59L10.3 9.45l-7.72 7.72c-.78.78-.78 2.05 0 2.83L4 21.41c.39.39.9.59 1.41.59.51 0 1.02-.2 1.41-.59l7.78-7.78 2.81-2.81c.8-.78.8-2.07 0-2.86zM5.41 20L4 18.59l7.72-7.72 1.47 1.35L5.41 20z\"/>\n",
              "  </svg>\n",
              "      </button>\n",
              "      \n",
              "  <style>\n",
              "    .colab-df-container {\n",
              "      display:flex;\n",
              "      flex-wrap:wrap;\n",
              "      gap: 12px;\n",
              "    }\n",
              "\n",
              "    .colab-df-convert {\n",
              "      background-color: #E8F0FE;\n",
              "      border: none;\n",
              "      border-radius: 50%;\n",
              "      cursor: pointer;\n",
              "      display: none;\n",
              "      fill: #1967D2;\n",
              "      height: 32px;\n",
              "      padding: 0 0 0 0;\n",
              "      width: 32px;\n",
              "    }\n",
              "\n",
              "    .colab-df-convert:hover {\n",
              "      background-color: #E2EBFA;\n",
              "      box-shadow: 0px 1px 2px rgba(60, 64, 67, 0.3), 0px 1px 3px 1px rgba(60, 64, 67, 0.15);\n",
              "      fill: #174EA6;\n",
              "    }\n",
              "\n",
              "    [theme=dark] .colab-df-convert {\n",
              "      background-color: #3B4455;\n",
              "      fill: #D2E3FC;\n",
              "    }\n",
              "\n",
              "    [theme=dark] .colab-df-convert:hover {\n",
              "      background-color: #434B5C;\n",
              "      box-shadow: 0px 1px 3px 1px rgba(0, 0, 0, 0.15);\n",
              "      filter: drop-shadow(0px 1px 2px rgba(0, 0, 0, 0.3));\n",
              "      fill: #FFFFFF;\n",
              "    }\n",
              "  </style>\n",
              "\n",
              "      <script>\n",
              "        const buttonEl =\n",
              "          document.querySelector('#df-e0aa09a4-0bcb-4ba1-bbd9-e49be24a1d55 button.colab-df-convert');\n",
              "        buttonEl.style.display =\n",
              "          google.colab.kernel.accessAllowed ? 'block' : 'none';\n",
              "\n",
              "        async function convertToInteractive(key) {\n",
              "          const element = document.querySelector('#df-e0aa09a4-0bcb-4ba1-bbd9-e49be24a1d55');\n",
              "          const dataTable =\n",
              "            await google.colab.kernel.invokeFunction('convertToInteractive',\n",
              "                                                     [key], {});\n",
              "          if (!dataTable) return;\n",
              "\n",
              "          const docLinkHtml = 'Like what you see? Visit the ' +\n",
              "            '<a target=\"_blank\" href=https://colab.research.google.com/notebooks/data_table.ipynb>data table notebook</a>'\n",
              "            + ' to learn more about interactive tables.';\n",
              "          element.innerHTML = '';\n",
              "          dataTable['output_type'] = 'display_data';\n",
              "          await google.colab.output.renderOutput(dataTable, element);\n",
              "          const docLink = document.createElement('div');\n",
              "          docLink.innerHTML = docLinkHtml;\n",
              "          element.appendChild(docLink);\n",
              "        }\n",
              "      </script>\n",
              "    </div>\n",
              "  </div>\n",
              "  "
            ]
          },
          "metadata": {},
          "execution_count": 140
        }
      ]
    },
    {
      "cell_type": "code",
      "source": [
        "df.ischong.unique()"
      ],
      "metadata": {
        "colab": {
          "base_uri": "https://localhost:8080/"
        },
        "id": "WpCFMNx4nXeG",
        "outputId": "ef283c5e-7723-4558-e1e8-f220f9e90022"
      },
      "execution_count": 141,
      "outputs": [
        {
          "output_type": "execute_result",
          "data": {
            "text/plain": [
              "array([0, 1])"
            ]
          },
          "metadata": {},
          "execution_count": 141
        }
      ]
    },
    {
      "cell_type": "code",
      "source": [
        "df.ischong[i] = (df['space'] == '충청북도') if 1 else 0"
      ],
      "metadata": {
        "colab": {
          "base_uri": "https://localhost:8080/"
        },
        "id": "pAri_oPJNjMc",
        "outputId": "2bd42013-86a0-497e-b231-a840d2828c03"
      },
      "execution_count": null,
      "outputs": [
        {
          "output_type": "stream",
          "name": "stderr",
          "text": [
            "/usr/local/lib/python3.7/dist-packages/ipykernel_launcher.py:1: SettingWithCopyWarning: \n",
            "A value is trying to be set on a copy of a slice from a DataFrame\n",
            "\n",
            "See the caveats in the documentation: https://pandas.pydata.org/pandas-docs/stable/user_guide/indexing.html#returning-a-view-versus-a-copy\n",
            "  \"\"\"Entry point for launching an IPython kernel.\n",
            "/usr/local/lib/python3.7/dist-packages/pandas/core/indexing.py:1732: SettingWithCopyWarning: \n",
            "A value is trying to be set on a copy of a slice from a DataFrame\n",
            "\n",
            "See the caveats in the documentation: https://pandas.pydata.org/pandas-docs/stable/user_guide/indexing.html#returning-a-view-versus-a-copy\n",
            "  self._setitem_single_block(indexer, value, name)\n"
          ]
        }
      ]
    },
    {
      "cell_type": "code",
      "source": [
        "df['space']"
      ],
      "metadata": {
        "colab": {
          "base_uri": "https://localhost:8080/"
        },
        "id": "tInLpbauN708",
        "outputId": "8863174b-fbea-4d80-e12f-f9e6363202ba"
      },
      "execution_count": null,
      "outputs": [
        {
          "output_type": "execute_result",
          "data": {
            "text/plain": [
              "array([0], dtype=object)"
            ]
          },
          "metadata": {},
          "execution_count": 125
        }
      ]
    },
    {
      "cell_type": "code",
      "source": [
        "df.loc[(df['근무지 기본주소'][0] == '충청북도'),'ischong'] = 1"
      ],
      "metadata": {
        "colab": {
          "base_uri": "https://localhost:8080/",
          "height": 323
        },
        "id": "3rZaSNTWEGTT",
        "outputId": "de58b89d-10ec-48ae-fb5a-764033c1527e"
      },
      "execution_count": null,
      "outputs": [
        {
          "output_type": "error",
          "ename": "KeyError",
          "evalue": "ignored",
          "traceback": [
            "\u001b[0;31m---------------------------------------------------------------------------\u001b[0m",
            "\u001b[0;31mKeyError\u001b[0m                                  Traceback (most recent call last)",
            "\u001b[0;32m<ipython-input-97-814c32b5869d>\u001b[0m in \u001b[0;36m<module>\u001b[0;34m()\u001b[0m\n\u001b[0;32m----> 1\u001b[0;31m \u001b[0mdf\u001b[0m\u001b[0;34m.\u001b[0m\u001b[0mloc\u001b[0m\u001b[0;34m[\u001b[0m\u001b[0;34m(\u001b[0m\u001b[0mdf\u001b[0m\u001b[0;34m[\u001b[0m\u001b[0;34m'근무지 기본주소'\u001b[0m\u001b[0;34m]\u001b[0m\u001b[0;34m[\u001b[0m\u001b[0;36m0\u001b[0m\u001b[0;34m]\u001b[0m \u001b[0;34m==\u001b[0m \u001b[0;34m'충청북도'\u001b[0m\u001b[0;34m)\u001b[0m\u001b[0;34m,\u001b[0m\u001b[0;34m'ischong'\u001b[0m\u001b[0;34m]\u001b[0m \u001b[0;34m=\u001b[0m \u001b[0;36m1\u001b[0m\u001b[0;34m\u001b[0m\u001b[0;34m\u001b[0m\u001b[0m\n\u001b[0m",
            "\u001b[0;32m/usr/local/lib/python3.7/dist-packages/pandas/core/indexing.py\u001b[0m in \u001b[0;36m__setitem__\u001b[0;34m(self, key, value)\u001b[0m\n\u001b[1;32m    721\u001b[0m \u001b[0;34m\u001b[0m\u001b[0m\n\u001b[1;32m    722\u001b[0m         \u001b[0miloc\u001b[0m \u001b[0;34m=\u001b[0m \u001b[0mself\u001b[0m \u001b[0;32mif\u001b[0m \u001b[0mself\u001b[0m\u001b[0;34m.\u001b[0m\u001b[0mname\u001b[0m \u001b[0;34m==\u001b[0m \u001b[0;34m\"iloc\"\u001b[0m \u001b[0;32melse\u001b[0m \u001b[0mself\u001b[0m\u001b[0;34m.\u001b[0m\u001b[0mobj\u001b[0m\u001b[0;34m.\u001b[0m\u001b[0miloc\u001b[0m\u001b[0;34m\u001b[0m\u001b[0;34m\u001b[0m\u001b[0m\n\u001b[0;32m--> 723\u001b[0;31m         \u001b[0miloc\u001b[0m\u001b[0;34m.\u001b[0m\u001b[0m_setitem_with_indexer\u001b[0m\u001b[0;34m(\u001b[0m\u001b[0mindexer\u001b[0m\u001b[0;34m,\u001b[0m \u001b[0mvalue\u001b[0m\u001b[0;34m,\u001b[0m \u001b[0mself\u001b[0m\u001b[0;34m.\u001b[0m\u001b[0mname\u001b[0m\u001b[0;34m)\u001b[0m\u001b[0;34m\u001b[0m\u001b[0;34m\u001b[0m\u001b[0m\n\u001b[0m\u001b[1;32m    724\u001b[0m \u001b[0;34m\u001b[0m\u001b[0m\n\u001b[1;32m    725\u001b[0m     \u001b[0;32mdef\u001b[0m \u001b[0m_validate_key\u001b[0m\u001b[0;34m(\u001b[0m\u001b[0mself\u001b[0m\u001b[0;34m,\u001b[0m \u001b[0mkey\u001b[0m\u001b[0;34m,\u001b[0m \u001b[0maxis\u001b[0m\u001b[0;34m:\u001b[0m \u001b[0mint\u001b[0m\u001b[0;34m)\u001b[0m\u001b[0;34m:\u001b[0m\u001b[0;34m\u001b[0m\u001b[0;34m\u001b[0m\u001b[0m\n",
            "\u001b[0;32m/usr/local/lib/python3.7/dist-packages/pandas/core/indexing.py\u001b[0m in \u001b[0;36m_setitem_with_indexer\u001b[0;34m(self, indexer, value, name)\u001b[0m\n\u001b[1;32m   1640\u001b[0m                     \u001b[0;31m# reindex the axis to the new value\u001b[0m\u001b[0;34m\u001b[0m\u001b[0;34m\u001b[0m\u001b[0;34m\u001b[0m\u001b[0m\n\u001b[1;32m   1641\u001b[0m                     \u001b[0;31m# and set inplace\u001b[0m\u001b[0;34m\u001b[0m\u001b[0;34m\u001b[0m\u001b[0;34m\u001b[0m\u001b[0m\n\u001b[0;32m-> 1642\u001b[0;31m                     \u001b[0mkey\u001b[0m\u001b[0;34m,\u001b[0m \u001b[0m_\u001b[0m \u001b[0;34m=\u001b[0m \u001b[0mconvert_missing_indexer\u001b[0m\u001b[0;34m(\u001b[0m\u001b[0midx\u001b[0m\u001b[0;34m)\u001b[0m\u001b[0;34m\u001b[0m\u001b[0;34m\u001b[0m\u001b[0m\n\u001b[0m\u001b[1;32m   1643\u001b[0m \u001b[0;34m\u001b[0m\u001b[0m\n\u001b[1;32m   1644\u001b[0m                     \u001b[0;31m# if this is the items axes, then take the main missing\u001b[0m\u001b[0;34m\u001b[0m\u001b[0;34m\u001b[0m\u001b[0;34m\u001b[0m\u001b[0m\n",
            "\u001b[0;32m/usr/local/lib/python3.7/dist-packages/pandas/core/indexing.py\u001b[0m in \u001b[0;36mconvert_missing_indexer\u001b[0;34m(indexer)\u001b[0m\n\u001b[1;32m   2413\u001b[0m \u001b[0;34m\u001b[0m\u001b[0m\n\u001b[1;32m   2414\u001b[0m         \u001b[0;32mif\u001b[0m \u001b[0misinstance\u001b[0m\u001b[0;34m(\u001b[0m\u001b[0mindexer\u001b[0m\u001b[0;34m,\u001b[0m \u001b[0mbool\u001b[0m\u001b[0;34m)\u001b[0m\u001b[0;34m:\u001b[0m\u001b[0;34m\u001b[0m\u001b[0;34m\u001b[0m\u001b[0m\n\u001b[0;32m-> 2415\u001b[0;31m             \u001b[0;32mraise\u001b[0m \u001b[0mKeyError\u001b[0m\u001b[0;34m(\u001b[0m\u001b[0;34m\"cannot use a single bool to index into setitem\"\u001b[0m\u001b[0;34m)\u001b[0m\u001b[0;34m\u001b[0m\u001b[0;34m\u001b[0m\u001b[0m\n\u001b[0m\u001b[1;32m   2416\u001b[0m         \u001b[0;32mreturn\u001b[0m \u001b[0mindexer\u001b[0m\u001b[0;34m,\u001b[0m \u001b[0;32mTrue\u001b[0m\u001b[0;34m\u001b[0m\u001b[0;34m\u001b[0m\u001b[0m\n\u001b[1;32m   2417\u001b[0m \u001b[0;34m\u001b[0m\u001b[0m\n",
            "\u001b[0;31mKeyError\u001b[0m: 'cannot use a single bool to index into setitem'"
          ]
        }
      ]
    },
    {
      "cell_type": "code",
      "source": [
        "df.ischong"
      ],
      "metadata": {
        "colab": {
          "base_uri": "https://localhost:8080/"
        },
        "id": "m01vJ1rIEkD7",
        "outputId": "c989d2c7-74a7-424f-e5d2-99c58b90e70f"
      },
      "execution_count": null,
      "outputs": [
        {
          "output_type": "execute_result",
          "data": {
            "text/plain": [
              "0        False\n",
              "1        False\n",
              "2        False\n",
              "3        False\n",
              "4        False\n",
              "         ...  \n",
              "21584    False\n",
              "21585    False\n",
              "21586    False\n",
              "21587    False\n",
              "21588    False\n",
              "Name: ischong, Length: 21589, dtype: bool"
            ]
          },
          "metadata": {},
          "execution_count": 86
        }
      ]
    },
    {
      "cell_type": "code",
      "source": [
        ""
      ],
      "metadata": {
        "id": "OFzbE1dHMRLd"
      },
      "execution_count": null,
      "outputs": []
    }
  ]
}